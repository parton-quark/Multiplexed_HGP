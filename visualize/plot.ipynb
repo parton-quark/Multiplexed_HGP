{
 "cells": [
  {
   "cell_type": "code",
   "execution_count": null,
   "metadata": {},
   "outputs": [],
   "source": [
    "import json\n",
    "import numpy as np\n",
    "from scipy import sparse\n",
    "from scipy.sparse import csc_matrix\n",
    "import matplotlib.pyplot as plt\n",
    "from drawing import *"
   ]
  },
  {
   "cell_type": "code",
   "execution_count": null,
   "metadata": {},
   "outputs": [],
   "source": [
    "files = ['results/something.json', 'results/something.json']\n",
    "phys_err = [i*0.05 for i in range(21)]\n",
    "list_of_res = read_multiple_jsons(files)\n",
    "plot_multiple_data(list_of_res=list_of_res, phys_err=phys_err)"
   ]
  }
 ],
 "metadata": {
  "language_info": {
   "name": "python"
  }
 },
 "nbformat": 4,
 "nbformat_minor": 2
}
