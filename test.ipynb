{
 "cells": [
  {
   "cell_type": "code",
   "execution_count": 1,
   "id": "b178ada9-81dc-4d77-9333-c3b82e45ff24",
   "metadata": {
    "tags": []
   },
   "outputs": [
    {
     "name": "stdout",
     "output_type": "stream",
     "text": [
      "inputs:\n",
      "['/Users/parton/anaconda3/lib/python3.11/site-packages/ipykernel_launcher.py', '-f', '/Users/parton/Library/Jupyter/runtime/kernel-2512bb1e-6918-440f-a90b-4cd9c2d681e2.json']\n"
     ]
    },
    {
     "ename": "ValueError",
     "evalue": "invalid literal for int() with base 10: '-f'",
     "output_type": "error",
     "traceback": [
      "\u001b[0;31m---------------------------------------------------------------------------\u001b[0m",
      "\u001b[0;31mValueError\u001b[0m                                Traceback (most recent call last)",
      "Cell \u001b[0;32mIn[1], line 1\u001b[0m\n\u001b[0;32m----> 1\u001b[0m \u001b[38;5;28;01mfrom\u001b[39;00m \u001b[38;5;21;01mmultiplexing_VH_decoder\u001b[39;00m \u001b[38;5;28;01mimport\u001b[39;00m \u001b[38;5;241m*\u001b[39m\n",
      "File \u001b[0;32m~/OIST/QM_HGP/Multiplexed_HGP/multiplexing_VH_decoder.py:672\u001b[0m\n\u001b[1;32m    668\u001b[0m     \u001b[38;5;28;01mreturn\u001b[39;00m \u001b[38;5;241m0\u001b[39m\n\u001b[1;32m    671\u001b[0m \u001b[38;5;66;03m# main()\u001b[39;00m\n\u001b[0;32m--> 672\u001b[0m main_with_LE()\n",
      "File \u001b[0;32m~/OIST/QM_HGP/Multiplexed_HGP/multiplexing_VH_decoder.py:617\u001b[0m, in \u001b[0;36mmain_with_LE\u001b[0;34m()\u001b[0m\n\u001b[1;32m    614\u001b[0m \u001b[38;5;28mprint\u001b[39m(sys\u001b[38;5;241m.\u001b[39margv)\n\u001b[1;32m    615\u001b[0m \u001b[38;5;66;03m# sys.argv[0] is the file name\u001b[39;00m\n\u001b[0;32m--> 617\u001b[0m num_multiplexing\u001b[38;5;241m=\u001b[39m\u001b[38;5;28mint\u001b[39m(sys\u001b[38;5;241m.\u001b[39margv[\u001b[38;5;241m1\u001b[39m])\n\u001b[1;32m    618\u001b[0m \u001b[38;5;66;03m# assignment_type = int(sys.argv[2])\u001b[39;00m\n\u001b[1;32m    619\u001b[0m num_trials\u001b[38;5;241m=\u001b[39m\u001b[38;5;28mint\u001b[39m(sys\u001b[38;5;241m.\u001b[39margv[\u001b[38;5;241m4\u001b[39m])\n",
      "\u001b[0;31mValueError\u001b[0m: invalid literal for int() with base 10: '-f'"
     ]
    }
   ],
   "source": [
    "from multiplexing_VH_decoder import *"
   ]
  },
  {
   "cell_type": "code",
   "execution_count": 2,
   "id": "ce57e95f-ee05-461e-a796-c495dd870a52",
   "metadata": {
    "tags": []
   },
   "outputs": [
    {
     "name": "stdout",
     "output_type": "stream",
     "text": [
      "start simulation\n",
      "2024-03-14 15:58:15.131845\n",
      "m=1 finished\n",
      "2024-03-14 15:58:15.194882\n",
      "m=2 with assignment0finished\n",
      "2024-03-14 15:58:15.278152\n",
      "m=2 with assignment1finished\n",
      "2024-03-14 15:58:15.341957\n",
      "m=2 with assignment2finished\n",
      "2024-03-14 15:58:15.407267\n",
      "m=4 with assignment0finished\n",
      "2024-03-14 15:58:15.480662\n",
      "m=4 with assignment1finished\n",
      "2024-03-14 15:58:15.541585\n",
      "m=4 with assignment2finished\n",
      "2024-03-14 15:58:15.606488\n",
      "m=8 with assignment0finished\n",
      "2024-03-14 15:58:15.689678\n",
      "m=8 with assignment1finished\n",
      "2024-03-14 15:58:15.749884\n",
      "m=8 with assignment2finished\n",
      "2024-03-14 15:58:15.812610\n",
      "m=16 with assignment0finished\n",
      "2024-03-14 15:58:15.873163\n",
      "m=16 with assignment1finished\n",
      "2024-03-14 15:58:15.936969\n",
      "m=16 with assignment2finished\n",
      "2024-03-14 15:58:15.999721\n"
     ]
    },
    {
     "data": {
      "text/plain": [
       "0"
      ]
     },
     "execution_count": 2,
     "metadata": {},
     "output_type": "execute_result"
    }
   ],
   "source": [
    "main_with_LE()"
   ]
  },
  {
   "cell_type": "code",
   "execution_count": null,
   "id": "c0f7c414-c2fb-42e7-86f7-e19d0886f9a1",
   "metadata": {},
   "outputs": [],
   "source": []
  }
 ],
 "metadata": {
  "kernelspec": {
   "display_name": "Python 3 (ipykernel)",
   "language": "python",
   "name": "python3"
  },
  "language_info": {
   "codemirror_mode": {
    "name": "ipython",
    "version": 3
   },
   "file_extension": ".py",
   "mimetype": "text/x-python",
   "name": "python",
   "nbconvert_exporter": "python",
   "pygments_lexer": "ipython3",
   "version": "3.11.5"
  }
 },
 "nbformat": 4,
 "nbformat_minor": 5
}
