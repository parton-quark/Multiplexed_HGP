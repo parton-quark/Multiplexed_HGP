{
 "cells": [
  {
   "cell_type": "code",
   "execution_count": 1,
   "metadata": {},
   "outputs": [],
   "source": [
    "import numpy as np\n",
    "import random\n",
    "import datetime\n",
    "import matplotlib.pyplot as plt\n",
    "from itertools import chain, combinations\n",
    "\n",
    "from Hypergraph_Product_Code_Construction_v3 import HGP_code, Toric3\n",
    "from peeling_cluster_decoder import combined_peeling_and_cluster_decoder\n",
    "from make_matrices import *\n",
    "from utilities import generate_erasure_pattern_index_set, generate_random_H_matrix, HGP_code, generate_random_error_index_set_with_erasure_support"
   ]
  },
  {
   "cell_type": "code",
   "execution_count": 2,
   "metadata": {},
   "outputs": [
    {
     "name": "stdout",
     "output_type": "stream",
     "text": [
      "HGP.num_qubits:164\n"
     ]
    }
   ],
   "source": [
    "H1 = generate_random_H_matrix(total_bits=10,bit_node_deg=4,check_node_deg=4)\n",
    "H2 = generate_random_H_matrix(total_bits=10,bit_node_deg=4,check_node_deg=4)\n",
    "HGP = HGP_code(H1,H2)\n",
    "print('HGP.num_qubits:' + str(HGP.num_qubits))"
   ]
  },
  {
   "cell_type": "code",
   "execution_count": null,
   "metadata": {},
   "outputs": [],
   "source": [
    "\n",
    "# make_and_save_matrices(total_bits=16,bit_node_deg=2,check_node_deg=4,file_name=\"N320\")\n",
    "# make_and_save_symmetric_matrices(8,3,4,\"test_matrix\")"
   ]
  },
  {
   "cell_type": "code",
   "execution_count": null,
   "metadata": {},
   "outputs": [],
   "source": [
    "def generate_sym_HGP_code(m)"
   ]
  }
 ],
 "metadata": {
  "kernelspec": {
   "display_name": "base",
   "language": "python",
   "name": "python3"
  },
  "language_info": {
   "codemirror_mode": {
    "name": "ipython",
    "version": 3
   },
   "file_extension": ".py",
   "mimetype": "text/x-python",
   "name": "python",
   "nbconvert_exporter": "python",
   "pygments_lexer": "ipython3",
   "version": "3.11.5"
  }
 },
 "nbformat": 4,
 "nbformat_minor": 2
}
