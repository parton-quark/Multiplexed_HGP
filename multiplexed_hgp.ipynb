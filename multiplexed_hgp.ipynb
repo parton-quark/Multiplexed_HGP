{
 "cells": [
  {
   "cell_type": "code",
   "execution_count": 1,
   "id": "ed9dd950-c9b8-4d2b-9caa-0058cf53f4b4",
   "metadata": {
    "tags": []
   },
   "outputs": [],
   "source": [
    "import numpy as np\n",
    "import random\n",
    "import datetime\n",
    "import matplotlib.pyplot as plt\n",
    "from itertools import chain, combinations\n",
    "\n",
    "from Hypergraph_Product_Code_Construction_v3 import HGP_code, Toric3\n",
    "from peeling_cluster_decoder import combined_peeling_and_cluster_decoder\n",
    "from utilities import generate_erasure_pattern_index_set, generate_random_H_matrix, HGP_code, generate_random_error_index_set_with_erasure_support"
   ]
  },
  {
   "cell_type": "code",
   "execution_count": 2,
   "id": "fd606b41-ad75-4bf1-b809-df87d7014307",
   "metadata": {
    "tags": []
   },
   "outputs": [],
   "source": [
    "def randomly_assign_qubits_to_photons(num_multiplexing,num_photons):\n",
    "    num_qubits = num_multiplexing * num_photons\n",
    "    qubits = [i for i in range(num_qubits)]\n",
    "    photons = []\n",
    "    \n",
    "    for j in range(num_photons):\n",
    "        qubits_in_photon = []\n",
    "        for k in range(num_multiplexing):\n",
    "            picked_qubit = random.choice(qubits)\n",
    "            qubits_in_photon.append(picked_qubit)\n",
    "            qubits.remove(picked_qubit)\n",
    "        photons.append(qubits_in_photon)    \n",
    "    return photons"
   ]
  },
  {
   "cell_type": "code",
   "execution_count": 3,
   "id": "6ab0701a-2e9a-430f-88db-cd75c06433bb",
   "metadata": {
    "tags": []
   },
   "outputs": [],
   "source": [
    "def deterministically_assign_qubits_to_photons(num_multiplexing,num_photons):\n",
    "    num_qubits = num_multiplexing * num_photons\n",
    "    qubits = [i for i in range(num_qubits)]\n",
    "    photons = []\n",
    "    \n",
    "    for j in range(num_photons):\n",
    "        qubits_in_photon = []\n",
    "        for k in range(num_multiplexing):\n",
    "            picked_qubit = qubits[0]\n",
    "            qubits_in_photon.append(picked_qubit)\n",
    "            qubits.remove(picked_qubit)\n",
    "        photons.append(qubits_in_photon)    \n",
    "    return photons"
   ]
  },
  {
   "cell_type": "code",
   "execution_count": 4,
   "id": "3a2ae732-de08-44e7-9705-236ed4f44f04",
   "metadata": {
    "tags": []
   },
   "outputs": [],
   "source": [
    "def make_erasure_vec_from_ph(assignment, erasure_pattern):\n",
    "    erased_qubits = []\n",
    "    erasure_pattern = list(erasure_pattern)\n",
    "    \n",
    "    for index in erasure_pattern:\n",
    "        erased_qubits  = erased_qubits + assignment[index]\n",
    "    return erased_qubits"
   ]
  },
  {
   "cell_type": "code",
   "execution_count": 5,
   "id": "9f4b0b53-5dd8-45d1-a0c4-4fd305817228",
   "metadata": {
    "tags": []
   },
   "outputs": [],
   "source": [
    "def get_success_prob(HGP, assignment, num_trials, num_photons, erasure_rate):\n",
    "    num_success = 0\n",
    "    num_failure = 0\n",
    "    trials = 0\n",
    "    while trials < num_trials:\n",
    "        trials += 1\n",
    "        try:\n",
    "            errors_on_photons = generate_erasure_pattern_index_set(num_photons, erasure_rate)\n",
    "            erasure_on_qubits = make_erasure_vec_from_ph(assignment = assignment, erasure_pattern = errors_on_photons)\n",
    "            # print('erasure_on_qubits:')\n",
    "            # print(erasure_on_qubits)\n",
    "            random_pauli = generate_random_error_index_set_with_erasure_support(HGP.num_qubits, erasure_index_set = set(erasure_on_qubits),error_rate = erasure_rate)\n",
    "            # print('random_pauli:')\n",
    "            # print(random_pauli)\n",
    "            syndrome = HGP.Hz_syn_index_set_for_X_err(random_pauli)\n",
    "            result = combined_peeling_and_cluster_decoder(HGP_code=HGP,E_index_set_input=set(erasure_on_qubits),s_index_set_input=syndrome)\n",
    "\n",
    "            if HGP.is_non_trivial_X_logical_error_index_set(result[0]) == False:\n",
    "                num_success += 1\n",
    "            else:\n",
    "                num_failure += 1\n",
    "        except:\n",
    "            # print(\"Decoder failed to decode\")\n",
    "            num_failure += 1\n",
    "    res_trials = [num_success, num_failure]\n",
    "    # print('results:' + str(res_trials))\n",
    "    return res_trials"
   ]
  },
  {
   "cell_type": "code",
   "execution_count": 6,
   "id": "1c58b11f-a79f-462f-a1c6-3f3e446d3369",
   "metadata": {
    "tags": []
   },
   "outputs": [],
   "source": [
    "def agresti_coull_intetrval(pair):\n",
    "    # num trial n\n",
    "    success = pair[0]\n",
    "    fail = pair[1]\n",
    "    rate = success / (success + fail)\n",
    "    n = success + fail\n",
    "    z = 2\n",
    "    n_tilda = n  + z ** 2\n",
    "    p_tilda = (1 / n_tilda) * (success + (z**2/2) )\n",
    "    # conf_int_min = p_tilda + (z * (np.sqrt(  (p_tilda / n_tilda) * (1 - p_tilda) )))\n",
    "    # conf_int_max = p_tilda - (z * (np.sqrt(  (p_tilda / n_tilda) * (1 - p_tilda) )))\n",
    "    dif = (z * (np.sqrt(  (p_tilda / n_tilda) * (1 - p_tilda) )))\n",
    "    # return [conf_int_min, rate, conf_int_max]\n",
    "    # dif = conf_int_max - conf_int_min \n",
    "    return dif"
   ]
  },
  {
   "cell_type": "code",
   "execution_count": 7,
   "id": "b73c290d-30a5-474d-9107-f2f29fdfa1c7",
   "metadata": {
    "tags": []
   },
   "outputs": [],
   "source": [
    "def rate_and_error(results, num):\n",
    "    rates = []\n",
    "    errors = []\n",
    "    for i in range(num):\n",
    "        num_success = results[i][0]\n",
    "        num_fail = results[i][1]\n",
    "        rate = num_fail / (num_success + num_fail)\n",
    "        rates.append(rate)\n",
    "        error = agresti_coull_intetrval([num_success, num_fail])\n",
    "        errors.append(error)\n",
    "    return rates, errors"
   ]
  },
  {
   "cell_type": "code",
   "execution_count": 8,
   "id": "12cbe4c5-e6b4-4831-b782-369fa7290ded",
   "metadata": {
    "tags": []
   },
   "outputs": [
    {
     "name": "stdout",
     "output_type": "stream",
     "text": [
      "HGP.num_qubits:164\n",
      "2024-03-11 14:32:41.988339\n",
      "assignment:[[20, 5], [65, 67], [78, 63], [10, 71], [2, 14], [43, 32], [8, 57], [25, 72], [69, 37], [0, 19], [23, 34], [22, 60], [44, 45], [41, 28], [62, 40], [9, 51], [13, 4], [59, 55], [50, 58], [33, 36], [16, 53], [77, 54], [64, 66], [76, 75], [31, 3], [56, 15], [61, 29], [21, 7], [26, 6], [70, 68], [35, 46], [17, 74], [48, 24], [30, 39], [1, 52], [27, 49], [73, 42], [79, 38], [12, 11], [18, 47]]\n",
      "2024-03-11 14:33:02.282438\n",
      "assignment:[[0, 1], [2, 3], [4, 5], [6, 7], [8, 9], [10, 11], [12, 13], [14, 15], [16, 17], [18, 19], [20, 21], [22, 23], [24, 25], [26, 27], [28, 29], [30, 31], [32, 33], [34, 35], [36, 37], [38, 39], [40, 41], [42, 43], [44, 45], [46, 47], [48, 49], [50, 51], [52, 53], [54, 55], [56, 57], [58, 59], [60, 61], [62, 63], [64, 65], [66, 67], [68, 69], [70, 71], [72, 73], [74, 75], [76, 77], [78, 79]]\n",
      "2024-03-11 14:33:22.391730\n",
      "assignment:[[0], [1], [2], [3], [4], [5], [6], [7], [8], [9], [10], [11], [12], [13], [14], [15], [16], [17], [18], [19], [20], [21], [22], [23], [24], [25], [26], [27], [28], [29], [30], [31], [32], [33], [34], [35], [36], [37], [38], [39], [40], [41], [42], [43], [44], [45], [46], [47], [48], [49], [50], [51], [52], [53], [54], [55], [56], [57], [58], [59], [60], [61], [62], [63], [64], [65], [66], [67], [68], [69], [70], [71], [72], [73], [74], [75], [76], [77], [78], [79]]\n"
     ]
    }
   ],
   "source": [
    "H1 = generate_random_H_matrix(total_bits=10,bit_node_deg=4,check_node_deg=5)\n",
    "H2 = generate_random_H_matrix(total_bits=10,bit_node_deg=4,check_node_deg=5)\n",
    "HGP = HGP_code(H1,H2)\n",
    "print('HGP.num_qubits:' + str(HGP.num_qubits))\n",
    "erasure_rates = [0 + 0.01 * i for i in range(50)]\n",
    "\n",
    "dt_now = datetime.datetime.now()\n",
    "print(dt_now)\n",
    "\n",
    "random_assignment = randomly_assign_qubits_to_photons(2,40)\n",
    "print('assignment:' + str(random_assignment))\n",
    "res_HGP_random = []\n",
    "for i in erasure_rates:\n",
    "    res_trials = get_success_prob(HGP=HGP, assignment=random_assignment, num_trials = 100, num_photons = 40, erasure_rate = i)\n",
    "    # print(str(i) + ':' + str(res_trials))\n",
    "    res_HGP_random.append(res_trials)\n",
    "\n",
    "dt_now = datetime.datetime.now()\n",
    "print(dt_now)\n",
    "    \n",
    "deterministic_assignment = deterministically_assign_qubits_to_photons(2,40)\n",
    "print('assignment:' + str(deterministic_assignment))\n",
    "res_HGP_deterministic = []\n",
    "for i in erasure_rates:\n",
    "    res_trials = get_success_prob(HGP=HGP, assignment=deterministic_assignment, num_trials = 100, num_photons = 40, erasure_rate = i)\n",
    "    # print(str(i) + ':' + str(res_trials))\n",
    "    res_HGP_deterministic.append(res_trials)\n",
    "\n",
    "dt_now = datetime.datetime.now()\n",
    "print(dt_now)\n",
    "\n",
    "assignment_without_qm = deterministically_assign_qubits_to_photons(1,80)\n",
    "print('assignment:' + str(assignment_without_qm))\n",
    "res_HGP_without_qm = []\n",
    "for i in erasure_rates:\n",
    "    res_trials = get_success_prob(HGP=HGP, assignment=assignment_without_qm, num_trials = 100, num_photons = 80, erasure_rate = i)\n",
    "    # print(str(i) + ':' + str(res_trials))\n",
    "    res_HGP_without_qm.append(res_trials)"
   ]
  },
  {
   "cell_type": "code",
   "execution_count": 9,
   "id": "2a117376-c2a9-4945-85e0-1755544a837e",
   "metadata": {
    "tags": []
   },
   "outputs": [
    {
     "name": "stdout",
     "output_type": "stream",
     "text": [
      "[[100, 0], [100, 0], [100, 0], [100, 0], [100, 0], [100, 0], [100, 0], [100, 0], [100, 0], [100, 0], [100, 0], [100, 0], [100, 0], [100, 0], [100, 0], [100, 0], [100, 0], [100, 0], [100, 0], [100, 0], [100, 0], [100, 0], [100, 0], [100, 0], [100, 0], [100, 0], [100, 0], [100, 0], [100, 0], [100, 0], [100, 0], [100, 0], [100, 0], [100, 0], [100, 0], [100, 0], [100, 0], [100, 0], [100, 0], [100, 0], [100, 0], [100, 0], [100, 0], [100, 0], [100, 0], [100, 0], [100, 0], [100, 0], [100, 0], [100, 0]]\n",
      "--------------\n",
      "[[100, 0], [100, 0], [100, 0], [100, 0], [100, 0], [100, 0], [100, 0], [100, 0], [100, 0], [100, 0], [100, 0], [100, 0], [100, 0], [100, 0], [100, 0], [100, 0], [100, 0], [100, 0], [100, 0], [100, 0], [100, 0], [100, 0], [100, 0], [100, 0], [100, 0], [100, 0], [100, 0], [100, 0], [100, 0], [100, 0], [100, 0], [100, 0], [100, 0], [100, 0], [100, 0], [100, 0], [100, 0], [100, 0], [100, 0], [100, 0], [100, 0], [100, 0], [100, 0], [100, 0], [100, 0], [100, 0], [100, 0], [100, 0], [100, 0], [100, 0]]\n",
      "--------------\n",
      "[[100, 0], [100, 0], [100, 0], [100, 0], [100, 0], [100, 0], [100, 0], [100, 0], [100, 0], [100, 0], [100, 0], [100, 0], [100, 0], [100, 0], [100, 0], [100, 0], [100, 0], [100, 0], [100, 0], [100, 0], [100, 0], [100, 0], [100, 0], [100, 0], [100, 0], [100, 0], [100, 0], [100, 0], [100, 0], [100, 0], [100, 0], [100, 0], [100, 0], [100, 0], [100, 0], [100, 0], [100, 0], [100, 0], [100, 0], [100, 0], [100, 0], [100, 0], [100, 0], [100, 0], [100, 0], [100, 0], [100, 0], [100, 0], [100, 0], [100, 0]]\n"
     ]
    }
   ],
   "source": [
    "print(res_HGP_random)\n",
    "print('--------------')\n",
    "print(res_HGP_deterministic)\n",
    "print('--------------')\n",
    "print(res_HGP_without_qm)"
   ]
  },
  {
   "cell_type": "code",
   "execution_count": 10,
   "id": "cd2b64c9-ec80-43ca-a5a8-94e029386ad5",
   "metadata": {
    "tags": []
   },
   "outputs": [],
   "source": [
    "rate_HGP_random, error_HGP_random = rate_and_error(res_HGP_random, 50)\n",
    "rate_HGP_deterministic, error_HGP_deterministic = rate_and_error(res_HGP_deterministic, 50)\n",
    "rate_HGP_without_qm, error_HGP_without_qm = rate_and_error(res_HGP_without_qm, 50)"
   ]
  },
  {
   "cell_type": "code",
   "execution_count": 11,
   "id": "6f0d370c-5696-4a02-a2a9-95f71255d089",
   "metadata": {
    "tags": []
   },
   "outputs": [
    {
     "data": {
      "image/png": "[encoded data removed]",
      "text/plain": [
       "<Figure size 640x480 with 1 Axes>"
      ]
     },
     "metadata": {},
     "output_type": "display_data"
    }
   ],
   "source": [
    "fig = plt.figure()\n",
    "ax = fig.add_subplot(1,1,1)\n",
    "\n",
    "ax.errorbar(erasure_rates, rate_HGP_random, error_HGP_random, label = r'$HGP, random, m=2$', color = 'C0', linewidth= 1)\n",
    "ax.errorbar(erasure_rates, rate_HGP_deterministic, error_HGP_deterministic, label = r'$HGP, deterministic, m=2$', color = 'C1', linewidth= 1)\n",
    "# ax.errorbar(erasure_rates, rate_HGP_without_qm, error_HGP_without_qm, label = r'$HGP, m=1$', color = 'C5', linewidth= 1)\n",
    "\n",
    "ax.plot(erasure_rates, erasure_rates, color = 'C3', label= \"x = y\")\n",
    "# ax.set_yscale('log')\n",
    "ax.set_xlabel(\"photon loss probability\", fontsize = 15)\n",
    "ax.set_ylabel(r\"logical $Z$ & decoder failure probability\", fontsize = 15)\n",
    "# ax.set_xlim(0.30x, 0.55)\n",
    "\n",
    "# ax.set_title(r\"$10\\times 10$ toric codes\", fontsize = 15)\n",
    "# ax.set_facecolor('lightgrey')\n",
    "plt.style.use('tableau-colorblind10')\n",
    "plt.legend(loc='upper left', fontsize = 13)\n",
    "# plt.savefig(\"10_10_multiplexed_toric_minmax.pdf\")\n",
    "plt.savefig(\"multiplexed_HGP_random.pdf\")\n",
    "plt.show()"
   ]
  },
  {
   "cell_type": "code",
   "execution_count": null,
   "id": "cca7ada3",
   "metadata": {},
   "outputs": [],
   "source": []
  },
  {
   "cell_type": "code",
   "execution_count": 12,
   "id": "d7605d8a",
   "metadata": {},
   "outputs": [],
   "source": [
    "from utilities import index_to_biindex, biindex_to_index\n",
    "\n",
    "# A function to partion the the qubits in a code into different photons of equal size.\n",
    "# Assumes a HGP code and will only assign qubits in different rows/columns together.\n",
    "\n",
    "def HGP_different_row_and_col_assign_qubits_to_photons(num_multiplexing,num_photons,HGP_code):\n",
    "    num_qubits = num_multiplexing * num_photons\n",
    "    qubits = [i for i in range(num_qubits)]\n",
    "    photons = []\n",
    "    photons_biindex = []\n",
    "    \n",
    "    # Define a number to track the number of times qubits could not be selected in a different row/col.\n",
    "    # In these cases, random assignment of qubit in a photon is made.\n",
    "    # This is for information purposes only and does not affect the function.\n",
    "    number_of_random_assignments = 0\n",
    "    \n",
    "    if num_qubits != HGP_code.num_qubits:\n",
    "        raise Exception(\"The number of qubits in HGP code does not match, cannot properly assign to photons!\")\n",
    "        \n",
    "    # Assign qubits to photons at random, checking the following conditions hold for EACH qubit in photon:\n",
    "    # If qubits are from different blocks (horizontal vs vertical), no problem.\n",
    "    # If qubits are from the same block, check they are in a different row and column.\n",
    "    # If this condition fails, discard this qubit and try again with another selected at random.\n",
    "    # If all valid assignments meeting the above conditions have been exhausted, then assign a qubit at random.\n",
    "    for photon_index in range(num_photons):\n",
    "        qubits_in_photon = []\n",
    "        qubits_biindex_in_photon = []\n",
    "        \n",
    "        # Create a copy of a the original list of qubits and create a shuffled copy of it.\n",
    "        # This is way, qubits can be taken at random and also exhaustively iterated through.\n",
    "        shuffled_qubit_list = qubits.copy()\n",
    "        random.shuffle(shuffled_qubit_list)\n",
    "        \n",
    "        # Set the maximum number of iterations; it's possible no remaining qubits satisfy conditions.\n",
    "        max_iterations = len(shuffled_qubit_list)\n",
    "        current_iteration = 0        \n",
    "\n",
    "        for multiplex_index in range(num_multiplexing):          \n",
    "            # Loop through qubits at random and try to add these to the photon, if possible meeting conditions.\n",
    "            # Loop repeats a number of times equal to the multiplexing.\n",
    "            while ((len(qubits_in_photon) < num_multiplexing) and (current_iteration < max_iterations)):\n",
    "                current_iteration += 1\n",
    "                \n",
    "                # \"Pop\" the first element of the shuffled qubit list; shuffled ensures qubit added at random.\n",
    "                # Also, popping removes the element from the list, so it is ingnored in subsequent loops.\n",
    "                picked_qubit_index = shuffled_qubit_list.pop(0)\n",
    "\n",
    "                #DEBUG\n",
    "                #print(\"1: picked qubit index:\"+str(picked_qubit_index))\n",
    "\n",
    "                # Infer the biindex of this qubit; it depends on information from the HGP block structure.\n",
    "                # There are two cases, depending on the block\n",
    "                if picked_qubit_index < HGP_code.num_v_qubits:\n",
    "                    # Horizontal case\n",
    "                    picked_qubit_biindex = index_to_biindex(\n",
    "                        index=picked_qubit_index,num_cols=HGP_code.n2,index_shift=0)\n",
    "                else:\n",
    "                    # Vertical case\n",
    "                    picked_qubit_biindex = index_to_biindex(\n",
    "                        index=picked_qubit_index,num_cols=HGP_code.r2,index_shift=HGP_code.num_v_qubits)\n",
    "\n",
    "                # Assign if first qubit.\n",
    "                if len(qubits_in_photon)==0:\n",
    "                    qubits_in_photon.append(picked_qubit_index)\n",
    "                    qubits_biindex_in_photon.append(picked_qubit_biindex)\n",
    "                    qubits.remove(picked_qubit_index)\n",
    "\n",
    "                else:\n",
    "                    conditions_satisfied = True\n",
    "                    # Iterate through each of the previously selected qubits and check they satisfy conditions.\n",
    "                    for qubit_in_photon_index in range(len(qubits_in_photon)):\n",
    "                        prior_qubit_index = qubits_in_photon[qubit_in_photon_index]\n",
    "                        prior_qubit_biindex = qubits_biindex_in_photon[qubit_in_photon_index]\n",
    "\n",
    "                        #DEBUG\n",
    "                        #print(\" 2. Comparing qubits \"+str(picked_qubit_index)+\" and \"+str(prior_qubit_index))\n",
    "                        #print(\"    Candidates for inclusion in photon \"+str(photon_index))\n",
    "\n",
    "                        # We only need to check the condition for qubits in the same block.\n",
    "                        if (((picked_qubit_index<HGP_code.num_h_qubits) and \n",
    "                             (prior_qubit_index<HGP_code.num_h_qubits)) \n",
    "                            or ((picked_qubit_index>=HGP_code.num_h_qubits) and \n",
    "                                (prior_qubit_index>=HGP_code.num_h_qubits))):\n",
    "                            # If qubits are in the same row or column, condition is not satisfied.\n",
    "                            if ((picked_qubit_biindex[0]==prior_qubit_biindex[0]) or \n",
    "                                (picked_qubit_biindex[1]==prior_qubit_biindex[1])):\n",
    "                                conditions_satisfied = False\n",
    "                                # DEBUG\n",
    "                                #print(\" ---> These qubits are in same row or column of same block\")\n",
    "                                break\n",
    "\n",
    "                    # Add the new qubit if it satisfies conditions on all previously selected qubits.\n",
    "                    if (conditions_satisfied==True):\n",
    "                        qubits_in_photon.append(picked_qubit_index)\n",
    "                        qubits_biindex_in_photon.append(picked_qubit_biindex)\n",
    "                        qubits.remove(picked_qubit_index)\n",
    "                            \n",
    "            if ((current_iteration==max_iterations) and (len(qubits_in_photon) < num_multiplexing)):\n",
    "                # If all remaining qubits have been compared and none satisfy conditions, preceding loop ends.\n",
    "                # In this case, default to random assignment for the remaining qubits in this photon.\n",
    "                \n",
    "                # DEBUG\n",
    "                #print(\" Photon number \"+str(photon_index)+\" unable to be constructed meeting conditions.\")\n",
    "                #print(\" Instead, assigning possible remaining qubits to this photon at random.\")\n",
    "                \n",
    "                shuffled_qubit_list = qubits.copy()\n",
    "                random.shuffle(shuffled_qubit_list)\n",
    "                picked_qubit_index = shuffled_qubit_list.pop()\n",
    "\n",
    "                if picked_qubit_index < HGP_code.num_v_qubits:\n",
    "                    # Horizontal case\n",
    "                    picked_qubit_biindex = index_to_biindex(\n",
    "                        index=picked_qubit_index,num_cols=HGP_code.n2,index_shift=0)\n",
    "                else:\n",
    "                    # Vertical case\n",
    "                    picked_qubit_biindex = index_to_biindex(\n",
    "                        index=picked_qubit_index,num_cols=HGP_code.r2,index_shift=HGP_code.num_h_qubits)\n",
    "                \n",
    "                qubits_in_photon.append(picked_qubit_index)\n",
    "                qubits_biindex_in_photon.append(picked_qubit_biindex)\n",
    "                qubits.remove(picked_qubit_index)\n",
    "                \n",
    "        # DEBUG\n",
    "        #print(\"  3. Qubits in photon number \"+str(photon_index)+\" (index list and biindex list)\")\n",
    "        #print(qubits_in_photon)\n",
    "        #print(qubits_biindex_in_photon)\n",
    "        \n",
    "        # Add the qubits in the photon to the list of photons.\n",
    "        photons.append(qubits_in_photon)\n",
    "        photons_biindex.append(qubits_biindex_in_photon)\n",
    "        \n",
    "    # DEBUG\n",
    "    print(\"Number of times defaulted to random assignment: \"+str(number_of_random_assignments))\n",
    "    \n",
    "    return photons, photons_biindex"
   ]
  },
  {
   "cell_type": "code",
   "execution_count": 13,
   "id": "ca854a74",
   "metadata": {},
   "outputs": [
    {
     "name": "stdout",
     "output_type": "stream",
     "text": [
      "Number of times defaulted to random assignment: 0\n"
     ]
    },
    {
     "data": {
      "text/plain": [
       "([[1, 11, 6], [12, 3, 8], [10, 0, 17], [4, 16, 9], [5, 7, 15], [13, 2, 14]],\n",
       " [[(0, 1), (0, 2), (2, 0)],\n",
       "  [(1, 0), (1, 0), (2, 2)],\n",
       "  [(0, 1), (0, 0), (2, 2)],\n",
       "  [(1, 1), (2, 1), (0, 0)],\n",
       "  [(1, 2), (2, 1), (2, 0)],\n",
       "  [(1, 1), (0, 2), (1, 2)]])"
      ]
     },
     "execution_count": 13,
     "metadata": {},
     "output_type": "execute_result"
    }
   ],
   "source": [
    "#HGP_different_row_and_col_assign_qubits_to_photons(num_multiplexing,num_photons,HGP_code)\n",
    "HGP_different_row_and_col_assign_qubits_to_photons(num_multiplexing=3,num_photons=6,HGP_code=Toric3)"
   ]
  },
  {
   "cell_type": "code",
   "execution_count": 14,
   "id": "07e05933",
   "metadata": {},
   "outputs": [
    {
     "name": "stdout",
     "output_type": "stream",
     "text": [
      "Number of times defaulted to random assignment: 0\n"
     ]
    },
    {
     "data": {
      "text/plain": [
       "([[4, 17],\n",
       "  [5, 9],\n",
       "  [16, 8],\n",
       "  [3, 14],\n",
       "  [15, 7],\n",
       "  [12, 0],\n",
       "  [6, 11],\n",
       "  [1, 13],\n",
       "  [2, 10]],\n",
       " [[(1, 1), (2, 2)],\n",
       "  [(1, 2), (0, 0)],\n",
       "  [(2, 1), (2, 2)],\n",
       "  [(1, 0), (1, 2)],\n",
       "  [(2, 0), (2, 1)],\n",
       "  [(1, 0), (0, 0)],\n",
       "  [(2, 0), (0, 2)],\n",
       "  [(0, 1), (1, 1)],\n",
       "  [(0, 2), (0, 1)]])"
      ]
     },
     "execution_count": 14,
     "metadata": {},
     "output_type": "execute_result"
    }
   ],
   "source": [
    "HGP_different_row_and_col_assign_qubits_to_photons(num_multiplexing=2,num_photons=9,HGP_code=Toric3)"
   ]
  },
  {
   "cell_type": "code",
   "execution_count": null,
   "id": "889b1a70",
   "metadata": {},
   "outputs": [],
   "source": []
  },
  {
   "cell_type": "code",
   "execution_count": 15,
   "id": "97c013f4",
   "metadata": {},
   "outputs": [
    {
     "data": {
      "text/plain": [
       "array([[1, 1, 0, 0, 0],\n",
       "       [0, 1, 1, 0, 0],\n",
       "       [0, 0, 1, 1, 0],\n",
       "       [0, 0, 0, 1, 1],\n",
       "       [1, 0, 0, 0, 1]])"
      ]
     },
     "execution_count": 15,
     "metadata": {},
     "output_type": "execute_result"
    }
   ],
   "source": [
    "Hrep5 = np.array([[1,1,0,0,0],[0,1,1,0,0],[0,0,1,1,0],[0,0,0,1,1],[1,0,0,0,1]])\n",
    "Hrep5"
   ]
  },
  {
   "cell_type": "code",
   "execution_count": 16,
   "id": "f5054630",
   "metadata": {},
   "outputs": [
    {
     "data": {
      "text/plain": [
       "(50, 25, 25)"
      ]
     },
     "execution_count": 16,
     "metadata": {},
     "output_type": "execute_result"
    }
   ],
   "source": [
    "Toric5 = HGP_code(Hrep5,Hrep5)\n",
    "Toric5.num_qubits, Toric5.num_h_qubits, Toric5.num_v_qubits"
   ]
  },
  {
   "cell_type": "code",
   "execution_count": 17,
   "id": "4e0499a4",
   "metadata": {},
   "outputs": [
    {
     "name": "stdout",
     "output_type": "stream",
     "text": [
      "Number of times defaulted to random assignment: 0\n"
     ]
    },
    {
     "data": {
      "text/plain": [
       "([[49, 35],\n",
       "  [36, 17],\n",
       "  [25, 14],\n",
       "  [44, 33],\n",
       "  [2, 24],\n",
       "  [21, 4],\n",
       "  [47, 43],\n",
       "  [41, 15],\n",
       "  [12, 9],\n",
       "  [8, 29],\n",
       "  [31, 16],\n",
       "  [1, 32],\n",
       "  [6, 0],\n",
       "  [46, 34],\n",
       "  [26, 3],\n",
       "  [22, 19],\n",
       "  [11, 20],\n",
       "  [27, 10],\n",
       "  [40, 13],\n",
       "  [38, 7],\n",
       "  [45, 37],\n",
       "  [5, 18],\n",
       "  [30, 23],\n",
       "  [28, 39],\n",
       "  [42, 48]],\n",
       " [[(4, 4), (2, 0)],\n",
       "  [(2, 1), (3, 2)],\n",
       "  [(0, 0), (2, 4)],\n",
       "  [(3, 4), (1, 3)],\n",
       "  [(0, 2), (4, 4)],\n",
       "  [(4, 1), (0, 4)],\n",
       "  [(4, 2), (3, 3)],\n",
       "  [(3, 1), (3, 0)],\n",
       "  [(2, 2), (1, 4)],\n",
       "  [(1, 3), (0, 4)],\n",
       "  [(1, 1), (3, 1)],\n",
       "  [(0, 1), (1, 2)],\n",
       "  [(1, 1), (0, 0)],\n",
       "  [(4, 1), (1, 4)],\n",
       "  [(0, 1), (0, 3)],\n",
       "  [(4, 2), (3, 4)],\n",
       "  [(2, 1), (4, 0)],\n",
       "  [(0, 2), (2, 0)],\n",
       "  [(3, 0), (2, 3)],\n",
       "  [(2, 3), (1, 2)],\n",
       "  [(4, 0), (2, 2)],\n",
       "  [(1, 0), (3, 3)],\n",
       "  [(1, 0), (4, 3)],\n",
       "  [(0, 3), (2, 4)],\n",
       "  [(3, 2), (4, 3)]])"
      ]
     },
     "execution_count": 17,
     "metadata": {},
     "output_type": "execute_result"
    }
   ],
   "source": [
    "HGP_different_row_and_col_assign_qubits_to_photons(num_multiplexing=2,num_photons=25,HGP_code=Toric5)"
   ]
  },
  {
   "cell_type": "code",
   "execution_count": 18,
   "id": "96112343",
   "metadata": {
    "scrolled": true
   },
   "outputs": [
    {
     "name": "stdout",
     "output_type": "stream",
     "text": [
      "Number of times defaulted to random assignment: 0\n"
     ]
    },
    {
     "data": {
      "text/plain": [
       "([[6, 49, 23, 17, 37],\n",
       "  [31, 28, 16, 0, 47],\n",
       "  [9, 15, 34, 46, 40],\n",
       "  [22, 43, 32, 10, 29],\n",
       "  [3, 5, 26, 21, 38],\n",
       "  [30, 44, 18, 12, 1],\n",
       "  [35, 27, 4, 11, 41],\n",
       "  [42, 20, 33, 14, 39],\n",
       "  [8, 19, 25, 48, 2],\n",
       "  [24, 36, 13, 45, 7]],\n",
       " [[(1, 1), (4, 4), (4, 3), (3, 2), (2, 2)],\n",
       "  [(1, 1), (0, 3), (3, 1), (0, 0), (4, 2)],\n",
       "  [(1, 4), (3, 0), (1, 4), (4, 1), (3, 0)],\n",
       "  [(4, 2), (3, 3), (1, 2), (2, 0), (0, 4)],\n",
       "  [(0, 3), (1, 0), (0, 1), (4, 1), (2, 3)],\n",
       "  [(1, 0), (3, 4), (3, 3), (2, 2), (0, 1)],\n",
       "  [(2, 0), (0, 2), (0, 4), (2, 1), (3, 1)],\n",
       "  [(3, 2), (4, 0), (1, 3), (2, 4), (2, 4)],\n",
       "  [(1, 3), (3, 4), (0, 0), (4, 3), (0, 2)],\n",
       "  [(4, 4), (2, 1), (2, 3), (4, 0), (1, 2)]])"
      ]
     },
     "execution_count": 18,
     "metadata": {},
     "output_type": "execute_result"
    }
   ],
   "source": [
    "HGP_different_row_and_col_assign_qubits_to_photons(num_multiplexing=5,num_photons=10,HGP_code=Toric5)"
   ]
  },
  {
   "cell_type": "code",
   "execution_count": 19,
   "id": "b1b82175",
   "metadata": {
    "scrolled": true
   },
   "outputs": [
    {
     "name": "stdout",
     "output_type": "stream",
     "text": [
      "Number of times defaulted to random assignment: 0\n"
     ]
    },
    {
     "data": {
      "text/plain": [
       "([[28, 30, 3, 17, 5, 41, 14, 47, 21, 39],\n",
       "  [4, 20, 26, 32, 49, 6, 40, 12, 38, 18],\n",
       "  [9, 1, 10, 33, 46, 25, 37, 23, 44, 29],\n",
       "  [48, 34, 15, 7, 35, 27, 13, 24, 42, 16],\n",
       "  [22, 19, 8, 11, 45, 31, 0, 43, 2, 36]],\n",
       " [[(0, 3),\n",
       "   (1, 0),\n",
       "   (0, 3),\n",
       "   (3, 2),\n",
       "   (1, 0),\n",
       "   (3, 1),\n",
       "   (2, 4),\n",
       "   (4, 2),\n",
       "   (4, 1),\n",
       "   (2, 4)],\n",
       "  [(0, 4),\n",
       "   (4, 0),\n",
       "   (0, 1),\n",
       "   (1, 2),\n",
       "   (4, 4),\n",
       "   (1, 1),\n",
       "   (3, 0),\n",
       "   (2, 2),\n",
       "   (2, 3),\n",
       "   (3, 3)],\n",
       "  [(1, 4),\n",
       "   (0, 1),\n",
       "   (2, 0),\n",
       "   (1, 3),\n",
       "   (4, 1),\n",
       "   (0, 0),\n",
       "   (2, 2),\n",
       "   (4, 3),\n",
       "   (3, 4),\n",
       "   (0, 4)],\n",
       "  [(4, 3),\n",
       "   (1, 4),\n",
       "   (3, 0),\n",
       "   (1, 2),\n",
       "   (2, 0),\n",
       "   (0, 2),\n",
       "   (2, 3),\n",
       "   (4, 4),\n",
       "   (3, 2),\n",
       "   (3, 1)],\n",
       "  [(4, 2),\n",
       "   (3, 4),\n",
       "   (1, 3),\n",
       "   (2, 1),\n",
       "   (4, 0),\n",
       "   (1, 1),\n",
       "   (0, 0),\n",
       "   (3, 3),\n",
       "   (0, 2),\n",
       "   (2, 1)]])"
      ]
     },
     "execution_count": 19,
     "metadata": {},
     "output_type": "execute_result"
    }
   ],
   "source": [
    "HGP_different_row_and_col_assign_qubits_to_photons(num_multiplexing=10,num_photons=5,HGP_code=Toric5)"
   ]
  },
  {
   "cell_type": "code",
   "execution_count": null,
   "id": "2196a559",
   "metadata": {},
   "outputs": [],
   "source": []
  },
  {
   "cell_type": "code",
   "execution_count": 20,
   "id": "990ed373",
   "metadata": {},
   "outputs": [],
   "source": [
    "H1_test = generate_random_H_matrix(total_bits=10,bit_node_deg=4,check_node_deg=5)\n",
    "H2_test = generate_random_H_matrix(total_bits=10,bit_node_deg=4,check_node_deg=5)\n",
    "HGP_test = HGP_code(H1_test,H2_test.T)"
   ]
  },
  {
   "cell_type": "code",
   "execution_count": 21,
   "id": "d136965e",
   "metadata": {},
   "outputs": [
    {
     "data": {
      "text/plain": [
       "(160, 80, 80)"
      ]
     },
     "execution_count": 21,
     "metadata": {},
     "output_type": "execute_result"
    }
   ],
   "source": [
    "HGP_test.num_qubits, HGP_test.num_h_qubits, HGP_test.num_v_qubits"
   ]
  },
  {
   "cell_type": "code",
   "execution_count": 22,
   "id": "e82b7c38",
   "metadata": {},
   "outputs": [
    {
     "name": "stdout",
     "output_type": "stream",
     "text": [
      "Number of times defaulted to random assignment: 0\n"
     ]
    },
    {
     "data": {
      "text/plain": [
       "([[110, 125, 153, 4, 74, 97, 17, 141],\n",
       "  [28, 94, 156, 85, 120, 149, 108, 79],\n",
       "  [23, 105, 111, 60, 42, 64, 13, 146],\n",
       "  [12, 56, 154, 66, 121, 88, 6, 147],\n",
       "  [43, 133, 63, 78, 119, 36, 53, 18],\n",
       "  [152, 61, 65, 38, 3, 90, 31, 123],\n",
       "  [145, 30, 106, 139, 72, 71, 82, 1],\n",
       "  [150, 33, 116, 70, 128, 132, 15, 93],\n",
       "  [124, 67, 95, 50, 20, 103, 130, 0],\n",
       "  [127, 113, 51, 37, 41, 159, 92, 84],\n",
       "  [122, 89, 34, 144, 19, 91, 55, 115],\n",
       "  [2, 49, 14, 158, 83, 77, 68, 101],\n",
       "  [107, 10, 129, 73, 135, 47, 48, 5],\n",
       "  [27, 100, 148, 16, 45, 76, 114, 57],\n",
       "  [140, 40, 11, 29, 39, 112, 155, 96],\n",
       "  [44, 117, 98, 109, 22, 134, 8, 143],\n",
       "  [69, 136, 52, 26, 46, 7, 102, 151],\n",
       "  [157, 35, 24, 62, 104, 9, 21, 99],\n",
       "  [118, 137, 126, 32, 25, 142, 58, 81],\n",
       "  [131, 87, 54, 59, 80, 138, 75, 86]],\n",
       " [[(3, 0), (4, 5), (7, 3), (0, 4), (9, 2), (1, 7), (2, 1), (6, 1)],\n",
       "  [(3, 4), (1, 4), (7, 6), (0, 5), (4, 0), (6, 9), (2, 8), (9, 7)],\n",
       "  [(2, 7), (2, 5), (3, 1), (7, 4), (5, 2), (8, 0), (1, 5), (6, 6)],\n",
       "  [(1, 4), (7, 0), (7, 4), (8, 2), (4, 1), (0, 8), (0, 6), (6, 7)],\n",
       "  [(5, 3), (5, 3), (7, 7), (9, 6), (3, 9), (4, 4), (6, 5), (2, 2)],\n",
       "  [(7, 2), (7, 5), (8, 1), (4, 6), (0, 3), (1, 0), (3, 7), (4, 3)],\n",
       "  [(6, 5), (3, 6), (2, 6), (5, 9), (9, 0), (8, 7), (0, 2), (0, 1)],\n",
       "  [(7, 0), (4, 1), (3, 6), (8, 6), (4, 8), (5, 2), (1, 7), (1, 3)],\n",
       "  [(4, 4), (8, 3), (1, 5), (6, 2), (2, 4), (2, 3), (5, 0), (0, 0)],\n",
       "  [(4, 7), (3, 3), (6, 3), (4, 5), (5, 1), (7, 9), (1, 2), (0, 4)],\n",
       "  [(4, 2), (0, 9), (4, 2), (6, 4), (2, 3), (1, 1), (6, 7), (3, 5)],\n",
       "  [(0, 2), (6, 1), (1, 6), (7, 8), (0, 3), (9, 5), (8, 4), (2, 1)],\n",
       "  [(2, 7), (1, 2), (4, 9), (9, 1), (5, 5), (5, 7), (6, 0), (0, 5)],\n",
       "  [(3, 3), (2, 0), (6, 8), (2, 0), (5, 5), (9, 4), (3, 4), (7, 1)],\n",
       "  [(6, 0), (5, 0), (1, 3), (3, 5), (4, 7), (3, 2), (7, 5), (1, 6)],\n",
       "  [(5, 4), (3, 7), (1, 8), (2, 9), (2, 6), (5, 4), (1, 0), (6, 3)],\n",
       "  [(8, 5), (5, 6), (6, 4), (3, 2), (5, 6), (0, 7), (2, 2), (7, 1)],\n",
       "  [(7, 7), (4, 3), (3, 0), (7, 6), (2, 4), (1, 1), (2, 5), (1, 9)],\n",
       "  [(3, 8), (5, 7), (4, 6), (4, 0), (3, 1), (6, 2), (7, 2), (0, 1)],\n",
       "  [(5, 1), (0, 7), (6, 6), (7, 3), (0, 0), (5, 8), (9, 3), (0, 6)]])"
      ]
     },
     "execution_count": 22,
     "metadata": {},
     "output_type": "execute_result"
    }
   ],
   "source": [
    "HGP_different_row_and_col_assign_qubits_to_photons(num_multiplexing=8,num_photons=20,HGP_code=HGP_test)"
   ]
  },
  {
   "cell_type": "code",
   "execution_count": null,
   "id": "03930b16",
   "metadata": {},
   "outputs": [],
   "source": []
  },
  {
   "cell_type": "code",
   "execution_count": null,
   "id": "a7aa61f6",
   "metadata": {},
   "outputs": [],
   "source": []
  },
  {
   "cell_type": "code",
   "execution_count": null,
   "id": "5be9fc22",
   "metadata": {},
   "outputs": [],
   "source": []
  },
  {
   "cell_type": "code",
   "execution_count": null,
   "id": "17a3e7d1",
   "metadata": {},
   "outputs": [],
   "source": []
  },
  {
   "cell_type": "code",
   "execution_count": null,
   "id": "cf832d97",
   "metadata": {},
   "outputs": [],
   "source": []
  },
  {
   "cell_type": "code",
   "execution_count": null,
   "id": "cce000f7",
   "metadata": {},
   "outputs": [],
   "source": []
  },
  {
   "cell_type": "code",
   "execution_count": null,
   "id": "940e17b2",
   "metadata": {},
   "outputs": [],
   "source": []
  },
  {
   "cell_type": "code",
   "execution_count": null,
   "id": "15cb7c0d",
   "metadata": {},
   "outputs": [],
   "source": []
  },
  {
   "cell_type": "code",
   "execution_count": null,
   "id": "c23e9d34",
   "metadata": {},
   "outputs": [],
   "source": []
  },
  {
   "cell_type": "code",
   "execution_count": null,
   "id": "544e6bd2",
   "metadata": {},
   "outputs": [],
   "source": []
  },
  {
   "cell_type": "code",
   "execution_count": null,
   "id": "a7f2cad1",
   "metadata": {},
   "outputs": [],
   "source": []
  },
  {
   "cell_type": "code",
   "execution_count": null,
   "id": "557ad95c",
   "metadata": {},
   "outputs": [],
   "source": []
  }
 ],
 "metadata": {
  "kernelspec": {
   "display_name": "Python 3 (ipykernel)",
   "language": "python",
   "name": "python3"
  },
  "language_info": {
   "codemirror_mode": {
    "name": "ipython",
    "version": 3
   },
   "file_extension": ".py",
   "mimetype": "text/x-python",
   "name": "python",
   "nbconvert_exporter": "python",
   "pygments_lexer": "ipython3",
   "version": "3.11.5"
  }
 },
 "nbformat": 4,
 "nbformat_minor": 5
}
