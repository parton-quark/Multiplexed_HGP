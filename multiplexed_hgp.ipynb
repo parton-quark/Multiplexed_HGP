{
 "cells": [
  {
   "cell_type": "code",
   "execution_count": 1,
   "id": "ed9dd950-c9b8-4d2b-9caa-0058cf53f4b4",
   "metadata": {
    "tags": []
   },
   "outputs": [],
   "source": [
    "import numpy as np\n",
    "import random\n",
    "import datetime\n",
    "import matplotlib.pyplot as plt\n",
    "from itertools import chain, combinations\n",
    "\n",
    "from Hypergraph_Product_Code_Construction_v3 import HGP_code\n",
    "from peeling_cluster_decoder import combined_peeling_and_cluster_decoder\n",
    "from utilities import generate_erasure_pattern_index_set, generate_random_H_matrix, HGP_code, generate_random_error_index_set_with_erasure_support"
   ]
  },
  {
   "cell_type": "code",
   "execution_count": 2,
   "id": "fd606b41-ad75-4bf1-b809-df87d7014307",
   "metadata": {
    "tags": []
   },
   "outputs": [],
   "source": [
    "def randomly_assign_qubits_to_photons(num_multiplexing,num_photons):\n",
    "    num_qubits = num_multiplexing * num_photons\n",
    "    qubits = [i for i in range(num_qubits)]\n",
    "    photons = []\n",
    "    \n",
    "    for j in range(num_photons):\n",
    "        qubits_in_photon = []\n",
    "        for k in range(num_multiplexing):\n",
    "            picked_qubit = random.choice(qubits)\n",
    "            qubits_in_photon.append(picked_qubit)\n",
    "            qubits.remove(picked_qubit)\n",
    "        photons.append(qubits_in_photon)    \n",
    "    return photons"
   ]
  },
  {
   "cell_type": "code",
   "execution_count": 3,
   "id": "6ab0701a-2e9a-430f-88db-cd75c06433bb",
   "metadata": {
    "tags": []
   },
   "outputs": [],
   "source": [
    "def deterministically_assign_qubits_to_photons(num_multiplexing,num_photons):\n",
    "    num_qubits = num_multiplexing * num_photons\n",
    "    qubits = [i for i in range(num_qubits)]\n",
    "    photons = []\n",
    "    \n",
    "    for j in range(num_photons):\n",
    "        qubits_in_photon = []\n",
    "        for k in range(num_multiplexing):\n",
    "            picked_qubit = qubits[0]\n",
    "            qubits_in_photon.append(picked_qubit)\n",
    "            qubits.remove(picked_qubit)\n",
    "        photons.append(qubits_in_photon)    \n",
    "    return photons"
   ]
  },
  {
   "cell_type": "code",
   "execution_count": 4,
   "id": "3a2ae732-de08-44e7-9705-236ed4f44f04",
   "metadata": {
    "tags": []
   },
   "outputs": [],
   "source": [
    "def make_erasure_vec_from_ph(assignment, erasure_pattern):\n",
    "    erased_qubits = []\n",
    "    erasure_pattern = list(erasure_pattern)\n",
    "    \n",
    "    for index in erasure_pattern:\n",
    "        erased_qubits  = erased_qubits + assignment[index]\n",
    "    return erased_qubits"
   ]
  },
  {
   "cell_type": "code",
   "execution_count": 5,
   "id": "9f4b0b53-5dd8-45d1-a0c4-4fd305817228",
   "metadata": {
    "tags": []
   },
   "outputs": [],
   "source": [
    "def get_success_prob(HGP, assignment, num_trials, num_photons, erasure_rate):\n",
    "    num_success = 0\n",
    "    num_failure = 0\n",
    "    trials = 0\n",
    "    while trials < num_trials:\n",
    "        trials += 1\n",
    "        try:\n",
    "            errors_on_photons = generate_erasure_pattern_index_set(num_photons, erasure_rate)\n",
    "            erasure_on_qubits = make_erasure_vec_from_ph(assignment = assignment, erasure_pattern = errors_on_photons)\n",
    "            # print('erasure_on_qubits:')\n",
    "            # print(erasure_on_qubits)\n",
    "            random_pauli = generate_random_error_index_set_with_erasure_support(HGP.num_qubits, erasure_index_set = set(erasure_on_qubits),error_rate = erasure_rate)\n",
    "            # print('random_pauli:')\n",
    "            # print(random_pauli)\n",
    "            syndrome = HGP.Hz_syn_index_set_for_X_err(random_pauli)\n",
    "            result = combined_peeling_and_cluster_decoder(HGP_code=HGP,E_index_set_input=set(erasure_on_qubits),s_index_set_input=syndrome)\n",
    "\n",
    "            if HGP.is_non_trivial_X_logical_error_index_set(result[0]) == False:\n",
    "                num_success += 1\n",
    "            else:\n",
    "                num_failure += 1\n",
    "        except:\n",
    "            # print(\"Decoder failed to decode\")\n",
    "            num_failure += 1\n",
    "    res_trials = [num_success, num_failure]\n",
    "    # print('results:' + str(res_trials))\n",
    "    return res_trials"
   ]
  },
  {
   "cell_type": "code",
   "execution_count": 6,
   "id": "1c58b11f-a79f-462f-a1c6-3f3e446d3369",
   "metadata": {
    "tags": []
   },
   "outputs": [],
   "source": [
    "def agresti_coull_intetrval(pair):\n",
    "    # num trial n\n",
    "    success = pair[0]\n",
    "    fail = pair[1]\n",
    "    rate = success / (success + fail)\n",
    "    n = success + fail\n",
    "    z = 2\n",
    "    n_tilda = n  + z ** 2\n",
    "    p_tilda = (1 / n_tilda) * (success + (z**2/2) )\n",
    "    # conf_int_min = p_tilda + (z * (np.sqrt(  (p_tilda / n_tilda) * (1 - p_tilda) )))\n",
    "    # conf_int_max = p_tilda - (z * (np.sqrt(  (p_tilda / n_tilda) * (1 - p_tilda) )))\n",
    "    dif = (z * (np.sqrt(  (p_tilda / n_tilda) * (1 - p_tilda) )))\n",
    "    # return [conf_int_min, rate, conf_int_max]\n",
    "    # dif = conf_int_max - conf_int_min \n",
    "    return dif"
   ]
  },
  {
   "cell_type": "code",
   "execution_count": 15,
   "id": "b73c290d-30a5-474d-9107-f2f29fdfa1c7",
   "metadata": {
    "tags": []
   },
   "outputs": [],
   "source": [
    "def rate_and_error(results, num):\n",
    "    rates = []\n",
    "    errors = []\n",
    "    for i in range(num):\n",
    "        num_success = results[i][0]\n",
    "        num_fail = results[i][1]\n",
    "        rate = num_fail / (num_success + num_fail)\n",
    "        rates.append(rate)\n",
    "        error = agresti_coull_intetrval([num_success, num_fail])\n",
    "        errors.append(error)\n",
    "    return rates, errors"
   ]
  },
  {
   "cell_type": "code",
   "execution_count": 7,
   "id": "12cbe4c5-e6b4-4831-b782-369fa7290ded",
   "metadata": {
    "tags": []
   },
   "outputs": [
    {
     "name": "stdout",
     "output_type": "stream",
     "text": [
      "HGP.num_qubits:80\n",
      "2024-03-07 00:53:23.739310\n",
      "assignment:[[75, 32], [21, 0], [29, 34], [65, 24], [36, 48], [77, 22], [40, 8], [54, 6], [73, 58], [3, 64], [47, 39], [50, 41], [62, 43], [60, 18], [11, 35], [45, 79], [71, 68], [74, 51], [10, 66], [28, 17], [38, 5], [25, 1], [53, 27], [42, 78], [76, 12], [33, 70], [19, 30], [16, 31], [4, 9], [46, 20], [57, 69], [44, 7], [72, 59], [52, 2], [67, 63], [61, 26], [13, 23], [56, 49], [14, 37], [15, 55]]\n",
      "2024-03-07 02:54:26.995799\n",
      "assignment:[[0, 1], [2, 3], [4, 5], [6, 7], [8, 9], [10, 11], [12, 13], [14, 15], [16, 17], [18, 19], [20, 21], [22, 23], [24, 25], [26, 27], [28, 29], [30, 31], [32, 33], [34, 35], [36, 37], [38, 39], [40, 41], [42, 43], [44, 45], [46, 47], [48, 49], [50, 51], [52, 53], [54, 55], [56, 57], [58, 59], [60, 61], [62, 63], [64, 65], [66, 67], [68, 69], [70, 71], [72, 73], [74, 75], [76, 77], [78, 79]]\n",
      "2024-03-07 04:54:09.161074\n",
      "assignment:[[0], [1], [2], [3], [4], [5], [6], [7], [8], [9], [10], [11], [12], [13], [14], [15], [16], [17], [18], [19], [20], [21], [22], [23], [24], [25], [26], [27], [28], [29], [30], [31], [32], [33], [34], [35], [36], [37], [38], [39], [40], [41], [42], [43], [44], [45], [46], [47], [48], [49], [50], [51], [52], [53], [54], [55], [56], [57], [58], [59], [60], [61], [62], [63], [64], [65], [66], [67], [68], [69], [70], [71], [72], [73], [74], [75], [76], [77], [78], [79]]\n",
      "0.0:[100000, 0]\n",
      "0.01:[100000, 0]\n",
      "0.02:[100000, 0]\n",
      "0.03:[100000, 0]\n",
      "0.04:[100000, 0]\n",
      "0.05:[100000, 0]\n",
      "0.06:[100000, 0]\n",
      "0.07:[100000, 0]\n",
      "0.08:[99996, 4]\n",
      "0.09:[99996, 4]\n",
      "0.1:[99983, 17]\n",
      "0.11:[99983, 17]\n",
      "0.12:[99951, 49]\n",
      "0.13:[99926, 74]\n",
      "0.14:[99865, 135]\n",
      "0.15:[99764, 236]\n",
      "0.16:[99657, 343]\n",
      "0.17:[99454, 546]\n",
      "0.18:[99134, 866]\n",
      "0.19:[98724, 1276]\n",
      "0.2:[98182, 1818]\n",
      "0.21:[97481, 2519]\n",
      "0.22:[96440, 3560]\n",
      "0.23:[95483, 4517]\n",
      "0.24:[93880, 6120]\n",
      "0.25:[92215, 7785]\n",
      "0.26:[90162, 9838]\n",
      "0.27:[87728, 12272]\n",
      "0.28:[85006, 14994]\n",
      "0.29:[81699, 18301]\n",
      "0.3:[78461, 21539]\n",
      "0.31:[74597, 25403]\n",
      "0.32:[70161, 29839]\n",
      "0.33:[65687, 34313]\n",
      "0.34:[61309, 38691]\n",
      "0.35000000000000003:[56376, 43624]\n",
      "0.36:[51383, 48617]\n",
      "0.37:[46702, 53298]\n",
      "0.38:[42017, 57983]\n",
      "0.39:[37407, 62593]\n",
      "0.4:[32803, 67197]\n",
      "0.41000000000000003:[28431, 71569]\n",
      "0.42:[24919, 75081]\n",
      "0.43:[21112, 78888]\n",
      "0.44:[17848, 82152]\n",
      "0.45:[15287, 84713]\n",
      "0.46:[12323, 87677]\n",
      "0.47000000000000003:[10283, 89717]\n",
      "0.48:[8263, 91737]\n",
      "0.49:[6706, 93294]\n"
     ]
    }
   ],
   "source": [
    "H1 = generate_random_H_matrix(total_bits= 4,bit_node_deg=4,check_node_deg=2)\n",
    "H2 = generate_random_H_matrix(total_bits= 4,bit_node_deg=4,check_node_deg=2)\n",
    "HGP = HGP_code(H1,H2)\n",
    "print('HGP.num_qubits:' + str(HGP.num_qubits))\n",
    "erasure_rates = [0 + 0.01 * i for i in range(50)]\n",
    "\n",
    "dt_now = datetime.datetime.now()\n",
    "print(dt_now)\n",
    "\n",
    "random_assignment = randomly_assign_qubits_to_photons(2,40)\n",
    "print('assignment:' + str(random_assignment))\n",
    "res_HGP_random = []\n",
    "for i in erasure_rates:\n",
    "    res_trials = get_success_prob(HGP=HGP, assignment=random_assignment, num_trials = 100000, num_photons = 40, erasure_rate = i)\n",
    "    # print(str(i) + ':' + str(res_trials))\n",
    "    res_HGP_random.append(res_trials)\n",
    "\n",
    "dt_now = datetime.datetime.now()\n",
    "print(dt_now)\n",
    "    \n",
    "deterministic_assignment = deterministically_assign_qubits_to_photons(2,40)\n",
    "print('assignment:' + str(deterministic_assignment))\n",
    "res_HGP_deterministic = []\n",
    "for i in erasure_rates:\n",
    "    res_trials = get_success_prob(HGP=HGP, assignment=deterministic_assignment, num_trials = 100000, num_photons = 40, erasure_rate = i)\n",
    "    # print(str(i) + ':' + str(res_trials))\n",
    "    res_HGP_deterministic.append(res_trials)\n",
    "\n",
    "dt_now = datetime.datetime.now()\n",
    "print(dt_now)\n",
    "\n",
    "assignment_without_qm = deterministically_assign_qubits_to_photons(1,80)\n",
    "print('assignment:' + str(assignment_without_qm))\n",
    "res_HGP_without_qm = []\n",
    "for i in erasure_rates:\n",
    "    res_trials = get_success_prob(HGP=HGP, assignment=assignment_without_qm, num_trials = 100000, num_photons = 80, erasure_rate = i)\n",
    "    # print(str(i) + ':' + str(res_trials))\n",
    "    res_HGP_without_qm.append(res_trials)"
   ]
  },
  {
   "cell_type": "code",
   "execution_count": 8,
   "id": "2a117376-c2a9-4945-85e0-1755544a837e",
   "metadata": {
    "tags": []
   },
   "outputs": [
    {
     "name": "stdout",
     "output_type": "stream",
     "text": [
      "[[100000, 0], [100000, 0], [100000, 0], [100000, 0], [100000, 0], [100000, 0], [99999, 1], [99995, 5], [99992, 8], [99980, 20], [99949, 51], [99913, 87], [99851, 149], [99759, 241], [99608, 392], [99397, 603], [99075, 925], [98688, 1312], [98195, 1805], [97568, 2432], [96651, 3349], [95617, 4383], [94385, 5615], [92893, 7107], [91031, 8969], [89047, 10953], [86813, 13187], [84148, 15852], [81280, 18720], [78108, 21892], [74938, 25062], [71239, 28761], [67659, 32341], [63740, 36260], [59714, 40286], [55778, 44222], [51383, 48617], [47285, 52715], [43125, 56875], [39121, 60879], [35331, 64669], [31574, 68426], [28064, 71936], [24782, 75218], [21964, 78036], [18957, 81043], [16537, 83463], [14031, 85969], [12106, 87894], [10142, 89858]]\n",
      "[[100000, 0], [100000, 0], [100000, 0], [100000, 0], [99998, 2], [99996, 4], [99993, 7], [99983, 17], [99961, 39], [99912, 88], [99837, 163], [99716, 284], [99614, 386], [99344, 656], [99034, 966], [98574, 1426], [98045, 1955], [97516, 2484], [96532, 3468], [95556, 4444], [94386, 5614], [92830, 7170], [91234, 8766], [89342, 10658], [87203, 12797], [84705, 15295], [82324, 17676], [79528, 20472], [76759, 23241], [73604, 26396], [70508, 29492], [66905, 33095], [63477, 36523], [60303, 39697], [56549, 43451], [53180, 46820], [49702, 50298], [45907, 54093], [42661, 57339], [39452, 60548], [36330, 63670], [33086, 66914], [30669, 69331], [27744, 72256], [25454, 74546], [22971, 77029], [20666, 79334], [18570, 81430], [16824, 83176], [15021, 84979]]\n",
      "[[100000, 0], [100000, 0], [100000, 0], [100000, 0], [100000, 0], [100000, 0], [100000, 0], [100000, 0], [99996, 4], [99996, 4], [99983, 17], [99983, 17], [99951, 49], [99926, 74], [99865, 135], [99764, 236], [99657, 343], [99454, 546], [99134, 866], [98724, 1276], [98182, 1818], [97481, 2519], [96440, 3560], [95483, 4517], [93880, 6120], [92215, 7785], [90162, 9838], [87728, 12272], [85006, 14994], [81699, 18301], [78461, 21539], [74597, 25403], [70161, 29839], [65687, 34313], [61309, 38691], [56376, 43624], [51383, 48617], [46702, 53298], [42017, 57983], [37407, 62593], [32803, 67197], [28431, 71569], [24919, 75081], [21112, 78888], [17848, 82152], [15287, 84713], [12323, 87677], [10283, 89717], [8263, 91737], [6706, 93294]]\n"
     ]
    }
   ],
   "source": [
    "print(res_HGP_random)\n",
    "print('--------------')\n",
    "print(res_HGP_deterministic)\n",
    "print('--------------')\n",
    "print(res_HGP_without_qm)"
   ]
  },
  {
   "cell_type": "code",
   "execution_count": 21,
   "id": "cd2b64c9-ec80-43ca-a5a8-94e029386ad5",
   "metadata": {
    "tags": []
   },
   "outputs": [],
   "source": [
    "rate_HGP_random, error_HGP_random = rate_and_error(res_HGP_random, 50)\n",
    "rate_HGP_deterministic, error_HGP_deterministic = rate_and_error(res_HGP_deterministic, 50)\n",
    "rate_HGP_without_qm, error_HGP_without_qm = rate_and_error(res_HGP_without_qm, 50)"
   ]
  },
  {
   "cell_type": "code",
   "execution_count": 23,
   "id": "6f0d370c-5696-4a02-a2a9-95f71255d089",
   "metadata": {
    "tags": []
   },
   "outputs": [
    {
     "data": {
      "image/png": "[encoded data removed]",
      "text/plain": [
       "<Figure size 640x480 with 1 Axes>"
      ]
     },
     "metadata": {},
     "output_type": "display_data"
    }
   ],
   "source": [
    "fig = plt.figure()\n",
    "ax = fig.add_subplot(1,1,1)\n",
    "\n",
    "ax.errorbar(erasure_rates, rate_HGP_random, error_HGP_random, label = r'$HGP, random, m=2$', color = 'C0', linewidth= 1)\n",
    "ax.errorbar(erasure_rates, rate_HGP_deterministic, error_HGP_deterministic, label = r'$HGP, deterministic, m=2$', color = 'C1', linewidth= 1)\n",
    "# ax.errorbar(erasure_rates, rate_HGP_without_qm, error_HGP_without_qm, label = r'$HGP, m=1$', color = 'C5', linewidth= 1)\n",
    "\n",
    "ax.plot(erasure_rates, erasure_rates, color = 'C3', label= \"x = y\")\n",
    "# ax.set_yscale('log')\n",
    "ax.set_xlabel(\"photon loss probability\", fontsize = 15)\n",
    "ax.set_ylabel(r\"logical $Z$ & decoder failure probability\", fontsize = 15)\n",
    "# ax.set_xlim(0.30x, 0.55)\n",
    "\n",
    "# ax.set_title(r\"$10\\times 10$ toric codes\", fontsize = 15)\n",
    "# ax.set_facecolor('lightgrey')\n",
    "plt.style.use('tableau-colorblind10')\n",
    "plt.legend(loc='upper left', fontsize = 13)\n",
    "# plt.savefig(\"10_10_multiplexed_toric_minmax.pdf\")\n",
    "plt.savefig(\"multiplexed_HGP_random.pdf\")\n",
    "plt.show()"
   ]
  }
 ],
 "metadata": {
  "kernelspec": {
   "display_name": "Python 3 (ipykernel)",
   "language": "python",
   "name": "python3"
  },
  "language_info": {
   "codemirror_mode": {
    "name": "ipython",
    "version": 3
   },
   "file_extension": ".py",
   "mimetype": "text/x-python",
   "name": "python",
   "nbconvert_exporter": "python",
   "pygments_lexer": "ipython3",
   "version": "3.11.5"
  }
 },
 "nbformat": 4,
 "nbformat_minor": 5
}
