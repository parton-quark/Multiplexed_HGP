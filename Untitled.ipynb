{
 "cells": [
  {
   "cell_type": "code",
   "execution_count": 1,
   "id": "27cb5a41-78fa-4f64-b437-fecb55e8742b",
   "metadata": {
    "tags": []
   },
   "outputs": [],
   "source": [
    "import numpy as np\n",
    "import random\n",
    "import datetime\n",
    "import matplotlib.pyplot as plt\n",
    "from itertools import chain, combinations\n",
    "\n",
    "from Hypergraph_Product_Code_Construction_v3 import HGP_code, Toric3\n",
    "from peeling_cluster_decoder import combined_peeling_and_cluster_decoder\n",
    "from utilities import generate_erasure_pattern_index_set, generate_random_H_matrix, HGP_code, generate_random_error_index_set_with_erasure_support"
   ]
  },
  {
   "cell_type": "code",
   "execution_count": 2,
   "id": "99de082e-a140-4fc0-9bab-930e2d313ee6",
   "metadata": {
    "tags": []
   },
   "outputs": [
    {
     "data": {
      "text/plain": [
       "18"
      ]
     },
     "execution_count": 2,
     "metadata": {},
     "output_type": "execute_result"
    }
   ],
   "source": [
    "Toric3.num_qubits"
   ]
  },
  {
   "cell_type": "code",
   "execution_count": 58,
   "id": "971b7a60-1289-4ffc-b72b-ca11b034b2a3",
   "metadata": {
    "tags": []
   },
   "outputs": [],
   "source": [
    "erasure_set = {0,1,2}\n",
    "\n",
    "random_pauli = generate_random_error_index_set_with_erasure_support(Toric3.num_qubits, erasure_index_set = erasure_set,error_rate = 0.5)\n",
    "syndrome = Toric3.Hz_syn_index_set_for_X_err(random_pauli)"
   ]
  },
  {
   "cell_type": "code",
   "execution_count": 59,
   "id": "62c1a093-bf8e-4dc0-9d3f-edda25c64c40",
   "metadata": {
    "tags": []
   },
   "outputs": [],
   "source": [
    "res = combined_peeling_and_cluster_decoder(Toric3,E_index_set_input=erasure_set,s_index_set_input=syndrome)"
   ]
  },
  {
   "cell_type": "code",
   "execution_count": 60,
   "id": "61d94c2c-ba93-4a44-ac5e-260c9c66a9a5",
   "metadata": {
    "tags": []
   },
   "outputs": [
    {
     "data": {
      "text/plain": [
       "{1}"
      ]
     },
     "execution_count": 60,
     "metadata": {},
     "output_type": "execute_result"
    }
   ],
   "source": [
    "random_pauli"
   ]
  },
  {
   "cell_type": "code",
   "execution_count": 61,
   "id": "6148ea5f-75c0-4a5d-ada8-a08feebebc3c",
   "metadata": {
    "tags": []
   },
   "outputs": [
    {
     "data": {
      "text/plain": [
       "({1},\n",
       " {'total_dangling_checks_corrected': 0,\n",
       "  'entirely_erased_generators_used': 0,\n",
       "  'entirely_erased_generator_products_used': 0,\n",
       "  'classical_stopping_sets_used': 1})"
      ]
     },
     "execution_count": 61,
     "metadata": {},
     "output_type": "execute_result"
    }
   ],
   "source": [
    "res"
   ]
  },
  {
   "cell_type": "code",
   "execution_count": null,
   "id": "dfe7fb5b-fb44-486a-b74a-f293af1caa24",
   "metadata": {},
   "outputs": [],
   "source": []
  }
 ],
 "metadata": {
  "kernelspec": {
   "display_name": "Python 3 (ipykernel)",
   "language": "python",
   "name": "python3"
  },
  "language_info": {
   "codemirror_mode": {
    "name": "ipython",
    "version": 3
   },
   "file_extension": ".py",
   "mimetype": "text/x-python",
   "name": "python",
   "nbconvert_exporter": "python",
   "pygments_lexer": "ipython3",
   "version": "3.11.5"
  }
 },
 "nbformat": 4,
 "nbformat_minor": 5
}
